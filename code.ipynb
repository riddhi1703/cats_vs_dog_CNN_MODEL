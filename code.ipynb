{
 "cells": [
  {
   "cell_type": "code",
   "execution_count": 24,
   "id": "bd5a4f2e",
   "metadata": {},
   "outputs": [],
   "source": [
    "import tensorflow as tf\n",
    "import os\n",
    "import shutil"
   ]
  },
  {
   "cell_type": "code",
   "execution_count": 25,
   "id": "1a2caa2a",
   "metadata": {},
   "outputs": [],
   "source": [
    "from keras.preprocessing.image import ImageDataGenerator"
   ]
  },
  {
   "cell_type": "code",
   "execution_count": 26,
   "id": "4717e4f5",
   "metadata": {},
   "outputs": [
    {
     "name": "stdout",
     "output_type": "stream",
     "text": [
      "Found 20000 images belonging to 2 classes.\n"
     ]
    }
   ],
   "source": [
    "train_datagen = ImageDataGenerator(\n",
    "    featurewise_center=True,\n",
    "    featurewise_std_normalization=True,\n",
    "    rotation_range=20,\n",
    "    width_shift_range=0.2,\n",
    "    height_shift_range=0.2,\n",
    "    horizontal_flip=True)\n",
    "\n",
    "train_datagen = ImageDataGenerator(rescale=1./255)\n",
    "    \n",
    "train_generator = train_datagen.flow_from_directory(\n",
    "    'Documents/coincent_proj/train',\n",
    "    target_size=(64,64),\n",
    "    batch_size=32,\n",
    "        class_mode='binary')"
   ]
  },
  {
   "cell_type": "code",
   "execution_count": 27,
   "id": "f2cfe18c",
   "metadata": {},
   "outputs": [
    {
     "name": "stdout",
     "output_type": "stream",
     "text": [
      "Found 5000 images belonging to 2 classes.\n"
     ]
    }
   ],
   "source": [
    "test_datagen = ImageDataGenerator(rescale=1./255)\n",
    "\n",
    "validation_generator = test_datagen.flow_from_directory(\n",
    "        'Documents/coincent_proj/test/',\n",
    "        target_size=(64,64),\n",
    "        batch_size=32,\n",
    "        class_mode='binary')"
   ]
  },
  {
   "cell_type": "code",
   "execution_count": 28,
   "id": "dc8e1cae",
   "metadata": {},
   "outputs": [],
   "source": [
    "#build CNN model\n",
    "#initialize\n",
    "cnn= tf.keras.models.Sequential()"
   ]
  },
  {
   "cell_type": "code",
   "execution_count": 29,
   "id": "e286c291",
   "metadata": {},
   "outputs": [],
   "source": [
    "cnn.add(tf.keras.layers.Conv2D(filters = 32, kernel_size = 3, activation = 'relu', input_shape = [64,64,3]))"
   ]
  },
  {
   "cell_type": "code",
   "execution_count": 30,
   "id": "59429aef",
   "metadata": {},
   "outputs": [],
   "source": [
    "cnn.add(tf.keras.layers.MaxPool2D(pool_size = 2, strides = 2))"
   ]
  },
  {
   "cell_type": "code",
   "execution_count": 31,
   "id": "7913b13e",
   "metadata": {},
   "outputs": [],
   "source": [
    "#providing one more layer \n",
    "\n",
    "cnn.add(tf.keras.layers.Conv2D(filters = 32, kernel_size = 3, activation = 'relu'))\n",
    "\n",
    "cnn.add(tf.keras.layers.MaxPool2D(pool_size = 2, strides = 2))"
   ]
  },
  {
   "cell_type": "code",
   "execution_count": 32,
   "id": "64193dca",
   "metadata": {},
   "outputs": [],
   "source": [
    "#Flattten\n",
    "\n",
    "cnn.add(tf.keras.layers.Flatten())"
   ]
  },
  {
   "cell_type": "code",
   "execution_count": 33,
   "id": "a62e6328",
   "metadata": {},
   "outputs": [],
   "source": [
    "#full connection\n",
    "\n",
    "cnn.add(tf.keras.layers.Dense(units = 128, activation = 'relu'))"
   ]
  },
  {
   "cell_type": "code",
   "execution_count": 34,
   "id": "907cb10e",
   "metadata": {},
   "outputs": [],
   "source": [
    "#output layer\n",
    " \n",
    "cnn.add(tf.keras.layers.Dense(units = 1, activation = 'sigmoid'))"
   ]
  },
  {
   "cell_type": "code",
   "execution_count": 35,
   "id": "ccf8e1e8",
   "metadata": {},
   "outputs": [],
   "source": [
    "#compile the model\n",
    "\n",
    "cnn.compile(optimizer='adam', loss = 'binary_crossentropy', metrics=['accuracy'])"
   ]
  },
  {
   "cell_type": "code",
   "execution_count": 36,
   "id": "779fee60",
   "metadata": {},
   "outputs": [
    {
     "name": "stdout",
     "output_type": "stream",
     "text": [
      "Epoch 1/10\n",
      "625/625 [==============================] - 320s 508ms/step - loss: 0.5972 - accuracy: 0.6695 - val_loss: 0.5202 - val_accuracy: 0.7420\n",
      "Epoch 2/10\n",
      "625/625 [==============================] - 212s 339ms/step - loss: 0.4896 - accuracy: 0.7634 - val_loss: 0.4580 - val_accuracy: 0.7834\n",
      "Epoch 3/10\n",
      "625/625 [==============================] - 120s 191ms/step - loss: 0.4321 - accuracy: 0.7980 - val_loss: 0.4463 - val_accuracy: 0.7888\n",
      "Epoch 4/10\n",
      "625/625 [==============================] - 123s 198ms/step - loss: 0.3823 - accuracy: 0.8268 - val_loss: 0.4372 - val_accuracy: 0.7932\n",
      "Epoch 5/10\n",
      "625/625 [==============================] - 212s 339ms/step - loss: 0.3318 - accuracy: 0.8508 - val_loss: 0.4491 - val_accuracy: 0.8014\n",
      "Epoch 6/10\n",
      "625/625 [==============================] - 110s 176ms/step - loss: 0.2656 - accuracy: 0.8885 - val_loss: 0.4699 - val_accuracy: 0.8110\n",
      "Epoch 7/10\n",
      "625/625 [==============================] - 210s 336ms/step - loss: 0.1983 - accuracy: 0.9201 - val_loss: 0.4855 - val_accuracy: 0.8180\n",
      "Epoch 8/10\n",
      "625/625 [==============================] - 131s 209ms/step - loss: 0.1314 - accuracy: 0.9512 - val_loss: 0.6089 - val_accuracy: 0.7962\n",
      "Epoch 9/10\n",
      "625/625 [==============================] - 258s 413ms/step - loss: 0.0871 - accuracy: 0.9694 - val_loss: 0.6208 - val_accuracy: 0.8104\n",
      "Epoch 10/10\n",
      "625/625 [==============================] - 207s 331ms/step - loss: 0.0464 - accuracy: 0.9857 - val_loss: 0.8625 - val_accuracy: 0.8034\n"
     ]
    }
   ],
   "source": [
    "#train the model\n",
    "\n",
    "history= cnn.fit(x = train_generator, validation_data = validation_generator, epochs = 10)"
   ]
  },
  {
   "cell_type": "code",
   "execution_count": 42,
   "id": "c7907e15",
   "metadata": {},
   "outputs": [
    {
     "name": "stdout",
     "output_type": "stream",
     "text": [
      "1/1 [==============================] - 0s 54ms/step\n"
     ]
    }
   ],
   "source": [
    "import numpy as np\n",
    "from keras.utils import load_img, img_to_array\n",
    "test_image= load_img(\"Documents/coincent_proj/validate/predict2.jpg.jpg\", target_size= (64,64))\n",
    "test_image= img_to_array(test_image)\n",
    "test_image= np.expand_dims(test_image,axis=0)\n",
    "result= cnn.predict(test_image)\n",
    "train_generator.class_indices\n",
    "if result[0][0]==1:\n",
    "    prediction= 'dog'\n",
    "else:\n",
    "    prediction= 'cat'"
   ]
  },
  {
   "cell_type": "code",
   "execution_count": 43,
   "id": "6df2aace",
   "metadata": {},
   "outputs": [
    {
     "data": {
      "text/plain": [
       "'dog'"
      ]
     },
     "execution_count": 43,
     "metadata": {},
     "output_type": "execute_result"
    }
   ],
   "source": [
    "prediction"
   ]
  },
  {
   "cell_type": "code",
   "execution_count": 39,
   "id": "dbf25bf8",
   "metadata": {},
   "outputs": [
    {
     "name": "stdout",
     "output_type": "stream",
     "text": [
      "dict_keys(['loss', 'accuracy', 'val_loss', 'val_accuracy'])\n"
     ]
    }
   ],
   "source": [
    "import matplotlib.pyplot as plt\n",
    "print(history.history.keys())"
   ]
  },
  {
   "cell_type": "code",
   "execution_count": 41,
   "id": "62208e2c",
   "metadata": {},
   "outputs": [
    {
     "data": {
      "text/plain": [
       "[<matplotlib.lines.Line2D at 0x1f7a83b7970>]"
      ]
     },
     "execution_count": 41,
     "metadata": {},
     "output_type": "execute_result"
    },
    {
     "data": {
      "image/png": "[encoded data removed]",
      "text/plain": [
       "<Figure size 432x288 with 1 Axes>"
      ]
     },
     "metadata": {
      "needs_background": "light"
     },
     "output_type": "display_data"
    }
   ],
   "source": [
    "plt.plot(history.history['accuracy'])\n",
    "plt.plot(history.history['val_loss'])\n",
    "plt.plot(history.history['val_accuracy'])"
   ]
  }
 ],
 "metadata": {
  "kernelspec": {
   "display_name": "Python 3 (ipykernel)",
   "language": "python",
   "name": "python3"
  },
  "language_info": {
   "codemirror_mode": {
    "name": "ipython",
    "version": 3
   },
   "file_extension": ".py",
   "mimetype": "text/x-python",
   "name": "python",
   "nbconvert_exporter": "python",
   "pygments_lexer": "ipython3",
   "version": "3.9.7"
  }
 },
 "nbformat": 4,
 "nbformat_minor": 5
}
